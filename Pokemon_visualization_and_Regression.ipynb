{
  "nbformat": 4,
  "nbformat_minor": 0,
  "metadata": {
    "kernelspec": {
      "language": "python",
      "display_name": "Python 3",
      "name": "python3"
    },
    "language_info": {
      "pygments_lexer": "ipython3",
      "nbconvert_exporter": "python",
      "version": "3.6.4",
      "file_extension": ".py",
      "codemirror_mode": {
        "name": "ipython",
        "version": 3
      },
      "name": "python",
      "mimetype": "text/x-python"
    },
    "colab": {
      "name": "Beginner_ Pokemon visualization and Regression.ipynb",
      "provenance": [],
      "private_outputs": true,
      "toc_visible": true
    },
    "accelerator": "GPU"
  },
  "cells": [
    {
      "cell_type": "markdown",
      "metadata": {
        "id": "AYysZ8I5gEkZ",
        "colab_type": "text"
      },
      "source": [
        "## Hello there, thank you for looking at my first notebook.\n",
        "##### This is my first published notebook ever. Since I am beginner it would be awesome if you could write in the comments what can I change for it to be better. Or maybe some new visualizations that are good and I should implement them. Any feedback would be appreciated.\n",
        "\n",
        "\n",
        "##### I am manly using matplotlib for now. At the end there is also a little bit of seaborn charts."
      ]
    },
    {
      "cell_type": "code",
      "metadata": {
        "_uuid": "8f2839f25d086af736a60e9eeb907d3b93b6e0e5",
        "_cell_guid": "b1076dfc-b9ad-4769-8c92-a6c4dae69d19",
        "trusted": true,
        "id": "o29EjoTegEkc",
        "colab_type": "code",
        "colab": {}
      },
      "source": [
        "import numpy as np\n",
        "import pandas as pd\n",
        "import matplotlib.pyplot as plt\n",
        "import seaborn as sns\n",
        "from sklearn.model_selection import train_test_split\n",
        "from sklearn.linear_model import LinearRegression\n",
        "\n",
        "import os\n",
        "for dirname, _, filenames in os.walk('Pokemon.csv'):\n",
        "    for filename in filenames:\n",
        "        print(os.path.join(dirname, filename))\n"
      ],
      "execution_count": 0,
      "outputs": []
    },
    {
      "cell_type": "markdown",
      "metadata": {
        "id": "0hP5LwVJgEkh",
        "colab_type": "text"
      },
      "source": [
        "#### What our data looks like"
      ]
    },
    {
      "cell_type": "code",
      "metadata": {
        "_uuid": "d629ff2d2480ee46fbb7e2d37f6b5fab8052498a",
        "_cell_guid": "79c7e3d0-c299-4dcb-8224-4455121ee9b0",
        "trusted": true,
        "_kg_hide-input": true,
        "id": "U40WuIx_gEki",
        "colab_type": "code",
        "colab": {}
      },
      "source": [
        "data = pd.read_csv(\"Pokemon.csv\")\n",
        "data = data.drop(\"#\",axis=1)\n",
        "data.head()"
      ],
      "execution_count": 0,
      "outputs": []
    },
    {
      "cell_type": "markdown",
      "metadata": {
        "id": "DjT6YborgEkm",
        "colab_type": "text"
      },
      "source": [
        "#### Descibe method on data"
      ]
    },
    {
      "cell_type": "code",
      "metadata": {
        "trusted": true,
        "_kg_hide-input": true,
        "id": "iRbZfgBxgEko",
        "colab_type": "code",
        "colab": {}
      },
      "source": [
        "desc = data.drop([\"Name\",\"Type 1\",\"Type 2\",\"Generation\",\"Legendary\"],axis=1)\n",
        "desc.describe()"
      ],
      "execution_count": 0,
      "outputs": []
    },
    {
      "cell_type": "markdown",
      "metadata": {
        "id": "fBo2rYA4gEks",
        "colab_type": "text"
      },
      "source": [
        "#### Now various bar plots of all pokemons"
      ]
    },
    {
      "cell_type": "code",
      "metadata": {
        "trusted": true,
        "_kg_hide-input": true,
        "id": "DPaf5xypgEkt",
        "colab_type": "code",
        "colab": {}
      },
      "source": [
        "def autolabel(rects,h):\n",
        "    for rect in rects:\n",
        "        height = rect.get_height()\n",
        "        if(height >h):\n",
        "            rect.set_color(\"blue\")\n",
        "        ax.text(rect.get_x() + rect.get_width()/2., 1.01*height,'%d' % int(height),ha='center', va='bottom')\n",
        "\n",
        "plt.figure(figsize=(5,5))\n",
        "bars = plt.bar(data[\"Generation\"].unique(), data.groupby(\"Generation\").count()[\"Name\"],color=\"lightgrey\",alpha=0.8)\n",
        "ax = plt.gca()\n",
        "ax.axes.get_yaxis().set_visible(False)\n",
        "for spine in plt.gca().spines.values():\n",
        "    spine.set_visible(False)\n",
        "plt.title('number of pokemons across generations')\n",
        "autolabel(bars,150)\n",
        "plt.show()"
      ],
      "execution_count": 0,
      "outputs": []
    },
    {
      "cell_type": "code",
      "metadata": {
        "trusted": true,
        "_kg_hide-input": true,
        "id": "cnZDdhrAgEkz",
        "colab_type": "code",
        "colab": {}
      },
      "source": [
        "plt.figure(figsize=(20,5))\n",
        "bars = plt.bar(data[\"Type 1\"].unique(), data.groupby(\"Type 1\").count()[\"Name\"],color=\"lightgrey\",alpha=0.8)\n",
        "ax = plt.gca()\n",
        "ax.axes.get_yaxis().set_visible(False)\n",
        "for spine in plt.gca().spines.values():\n",
        "    spine.set_visible(False)\n",
        "plt.title('Number of pokemons across type 1')\n",
        "autolabel(bars,90)\n",
        "plt.show()"
      ],
      "execution_count": 0,
      "outputs": []
    },
    {
      "cell_type": "code",
      "metadata": {
        "trusted": true,
        "_kg_hide-input": true,
        "id": "RHtEiiuAgEk3",
        "colab_type": "code",
        "colab": {}
      },
      "source": [
        "fig,((ax1,ax2,ax3), (ax4,ax5,ax6)) = plt.subplots(2, 3,figsize=(20, 10), sharex=False, sharey=True)\n",
        "axs = [ax1,ax2,ax3,ax4,ax5,ax6]\n",
        "i=1\n",
        "for ax in axs:\n",
        "    bars = ax.bar(data.groupby([\"Generation\",\"Type 1\"]).count().loc[i].index, data.groupby([\"Generation\",\"Type 1\"]).count().loc[i][\"Name\"],color=\"lightgrey\",alpha=0.8)\n",
        "    ax.axes.get_yaxis().set_visible(False)\n",
        "    ax.set_title(\"Generation \"+str(i), y = 0.7)\n",
        "    autolabel(bars,17)\n",
        "    for spine in ax.spines.values():\n",
        "        spine.set_visible(False)\n",
        "    x = ax.xaxis\n",
        "    i = i+1\n",
        "    for item in x.get_ticklabels():\n",
        "        item.set_rotation(90)\n",
        "plt.show()"
      ],
      "execution_count": 0,
      "outputs": []
    },
    {
      "cell_type": "markdown",
      "metadata": {
        "id": "dPNjK6IEgEk9",
        "colab_type": "text"
      },
      "source": [
        "#### Now we look on the legenadry"
      ]
    },
    {
      "cell_type": "code",
      "metadata": {
        "trusted": true,
        "_kg_hide-input": true,
        "id": "mu-nkVXkgEk-",
        "colab_type": "code",
        "colab": {}
      },
      "source": [
        "legendary = data[data[\"Legendary\"]==True]\n",
        "fig,(ax1,ax2) = plt.subplots(1, 2,figsize=(20, 10), sharex=False, sharey=True)\n",
        "ax=ax1\n",
        "ax.set_title(\"Legendary and Genaration\",y = 1)\n",
        "ba1 = ax.bar(legendary[\"Generation\"].unique(), legendary.groupby(\"Generation\").count()[\"Name\"],color=\"lightgrey\",alpha=0.8)\n",
        "autolabel(ba1,17)\n",
        "ax=ax2\n",
        "ax.set_title(\"Legendary and Type 1\",y = 1)\n",
        "ba2 = ax.bar(legendary[\"Type 1\"].unique(), legendary.groupby(\"Type 1\").count()[\"Name\"],color=\"lightgrey\",alpha=0.8)\n",
        "x = ax.xaxis\n",
        "for item in x.get_ticklabels():\n",
        "    item.set_rotation(45)\n",
        "autolabel(ba2,12)\n",
        "ax1.axes.get_yaxis().set_visible(False)\n",
        "ax2.axes.get_yaxis().set_visible(False)\n",
        "for spine in ax1.spines.values():\n",
        "    spine.set_visible(False)\n",
        "for spine in ax2.spines.values():\n",
        "    spine.set_visible(False)\n",
        "plt.show()"
      ],
      "execution_count": 0,
      "outputs": []
    },
    {
      "cell_type": "markdown",
      "metadata": {
        "id": "2tN5dwRrgElC",
        "colab_type": "text"
      },
      "source": [
        "### I hope next graph is easy to understand. It is comparing mean of ordinary and legendary pokemon."
      ]
    },
    {
      "cell_type": "code",
      "metadata": {
        "trusted": true,
        "_kg_hide-input": true,
        "id": "xObh8D9_gElD",
        "colab_type": "code",
        "colab": {}
      },
      "source": [
        "legendary = data[data[\"Legendary\"]==True]\n",
        "notlegendary = data[data[\"Legendary\"]==False]\n",
        "plt.figure(figsize=(15,10))\n",
        "\n",
        "plt.plot(notlegendary.groupby(\"Type 1\").mean().index,notlegendary.groupby(\"Type 1\").mean()[\"Defense\"],label=\"Nonlegendary Defence\",alpha=0.6)\n",
        "plt.plot(notlegendary.groupby(\"Type 1\").mean().index,notlegendary.groupby(\"Type 1\").mean()[\"Attack\"],label=\"Nonlegendary Attack\",alpha=0.6)\n",
        "\n",
        "plt.scatter(legendary.groupby(\"Type 1\").mean().index,legendary.groupby(\"Type 1\").mean()[\"Attack\"],alpha=1,color='red',label=\"Legendary attack\")\n",
        "plt.scatter(legendary.groupby(\"Type 1\").mean().index,legendary.groupby(\"Type 1\").mean()[\"Defense\"],alpha=1,color='blue',label='Legendary defense')\n",
        "\n",
        "ax = plt.gca()\n",
        "ax.xaxis.grid(True,alpha=0.4)\n",
        "ax.yaxis.grid(True,alpha=0.4)\n",
        "for spine in plt.gca().spines.values():\n",
        "    spine.set_visible(False)\n",
        "plt.gca().fill_between(notlegendary.groupby(\"Type 1\").mean().index, \n",
        "                       notlegendary.groupby(\"Type 1\").mean()[\"Attack\"], notlegendary.groupby(\"Type 1\").mean()[\"Defense\"], \n",
        "                       facecolor='grey', \n",
        "                       alpha=0.2)\n",
        "plt.title(\"Pokemon mean attack and defense,legendary and nonlegendary\")\n",
        "plt.legend()\n",
        "plt.show()"
      ],
      "execution_count": 0,
      "outputs": []
    },
    {
      "cell_type": "markdown",
      "metadata": {
        "id": "0iKAEnhagElH",
        "colab_type": "text"
      },
      "source": [
        "### Now basic histograms"
      ]
    },
    {
      "cell_type": "code",
      "metadata": {
        "trusted": true,
        "_kg_hide-input": true,
        "id": "Db6i6MY0gElI",
        "colab_type": "code",
        "colab": {}
      },
      "source": [
        "fig, ((ax1,ax2,ax3), (ax4,ax5,ax6))  = plt.subplots(2, 3,figsize=(20,15) ,sharex=True,sharey=True)\n",
        "axs = [ax1,ax2,ax3,ax4,ax5,ax6]\n",
        "names = [\"HP\",\"Attack\",\"Defense\",\"Sp. Atk\",\"Sp. Def\",\"Speed\"]\n",
        "i=0\n",
        "for ax in axs:\n",
        "    ax.hist(data[names[i]])\n",
        "    ax.yaxis.grid(True,alpha=0.4)\n",
        "    ax.set_title(names[i])\n",
        "    for spine in ax.spines.values():\n",
        "        spine.set_visible(False)\n",
        "    i = i+1\n",
        "plt.show()"
      ],
      "execution_count": 0,
      "outputs": []
    },
    {
      "cell_type": "code",
      "metadata": {
        "trusted": true,
        "_kg_hide-input": true,
        "id": "XNnAiqKDgElM",
        "colab_type": "code",
        "colab": {}
      },
      "source": [
        "plt.figure()\n",
        "plt.hist(data[\"Total\"])\n",
        "ax = plt.gca()\n",
        "ax.yaxis.grid(True,alpha=0.4)\n",
        "ax.set_title(\"Total\")\n",
        "for spine in ax.spines.values():\n",
        "    spine.set_visible(False)\n",
        "plt.show()"
      ],
      "execution_count": 0,
      "outputs": []
    },
    {
      "cell_type": "markdown",
      "metadata": {
        "id": "JoWCDCxJgElS",
        "colab_type": "text"
      },
      "source": [
        "### Now some basic scatterplots. Maybe it is not so pretty but it does its job."
      ]
    },
    {
      "cell_type": "code",
      "metadata": {
        "trusted": true,
        "_kg_hide-input": true,
        "id": "i1hFyRJIgElU",
        "colab_type": "code",
        "colab": {}
      },
      "source": [
        "\n",
        "fig, (ax1,ax2)  = plt.subplots(1, 2,figsize=(14,8) ,sharex=True,sharey=True)\n",
        "ax1.scatter(data[\"Total\"],data[\"Attack\"])\n",
        "ax1.set_title(\"Total(x) and Attack(y)\")\n",
        "ax2.scatter(data[\"Total\"],data[\"Defense\"])\n",
        "ax2.set_title(\"Total(x) adn Defense(y)\")\n",
        "plt.show()"
      ],
      "execution_count": 0,
      "outputs": []
    },
    {
      "cell_type": "markdown",
      "metadata": {
        "id": "Dukqig8qgElX",
        "colab_type": "text"
      },
      "source": [
        "### Now some 2d histograms. We clearly see most popular combination of those stats."
      ]
    },
    {
      "cell_type": "code",
      "metadata": {
        "trusted": true,
        "_kg_hide-input": true,
        "id": "wxdlv2-xgElY",
        "colab_type": "code",
        "colab": {}
      },
      "source": [
        "fig, (ax1,ax2)  = plt.subplots(1, 2,figsize=(15,6) ,sharex=False,sharey=False)\n",
        "h = ax1.hist2d(data['Attack'], data['Defense'],bins=25 )\n",
        "ax1.set_title(\"Attack(x) and Defense(y)\")\n",
        "plt.colorbar(h[3], ax=ax1)\n",
        "h = ax2.hist2d(data['HP'], data['Total'],bins=25 )\n",
        "ax2.set_title(\"HP(x) and Total(y)\")\n",
        "plt.colorbar(h[3], ax=ax2)\n",
        "plt.show()"
      ],
      "execution_count": 0,
      "outputs": []
    },
    {
      "cell_type": "markdown",
      "metadata": {
        "id": "keHfivRDgElc",
        "colab_type": "text"
      },
      "source": [
        "### And some boxplots. At first they were hard to understand, but they are useful."
      ]
    },
    {
      "cell_type": "code",
      "metadata": {
        "trusted": true,
        "_kg_hide-input": true,
        "id": "8R_rwSO7gEld",
        "colab_type": "code",
        "colab": {}
      },
      "source": [
        "plt.figure(figsize=(10,5))\n",
        "box = plt.boxplot([data['HP'], data['Attack'],data[\"Defense\"],data[\"Sp. Atk\"],data[\"Sp. Def\"],data[\"Speed\"] ] , patch_artist=True)\n",
        "ax = plt.gca()\n",
        "ax.set_xticklabels(('HP', 'Attack', 'Defense', 'Sp. Atk', 'Sp. Def','Speed'))\n",
        "for spine in ax.spines.values():\n",
        "    spine.set_visible(False)\n",
        "ax.yaxis.grid(True,alpha=0.4)\n",
        "plt.setp(box[\"boxes\"], facecolor=\"lightgrey\")\n",
        "plt.show()"
      ],
      "execution_count": 0,
      "outputs": []
    },
    {
      "cell_type": "code",
      "metadata": {
        "trusted": true,
        "_kg_hide-input": true,
        "id": "T0VLrcE1gElh",
        "colab_type": "code",
        "colab": {}
      },
      "source": [
        "plt.figure(figsize=(5,4))\n",
        "box = plt.boxplot(data['Total'] ,patch_artist=True)\n",
        "plt.setp(box[\"boxes\"], facecolor=\"lightgrey\")\n",
        "ax = plt.gca()\n",
        "ax.set_xticklabels(('Total',''))\n",
        "ax.yaxis.grid(True,alpha=0.4)\n",
        "for spine in ax.spines.values():\n",
        "    spine.set_visible(False)\n",
        "plt.show()"
      ],
      "execution_count": 0,
      "outputs": []
    },
    {
      "cell_type": "markdown",
      "metadata": {
        "id": "8rrNAPo8gEll",
        "colab_type": "text"
      },
      "source": [
        "### And density function. Without it I would have not know that Total one has two peaks. I guess some pokemons are better than others."
      ]
    },
    {
      "cell_type": "code",
      "metadata": {
        "trusted": true,
        "_kg_hide-input": true,
        "id": "LWnNeDqGgElm",
        "colab_type": "code",
        "colab": {}
      },
      "source": [
        "ax=desc.plot.kde(figsize=(15,10))\n",
        "for spine in ax.spines.values():\n",
        "    spine.set_visible(False)\n",
        "ax.yaxis.grid(True,alpha=0.4)"
      ],
      "execution_count": 0,
      "outputs": []
    },
    {
      "cell_type": "markdown",
      "metadata": {
        "id": "ypE5V0yYgElt",
        "colab_type": "text"
      },
      "source": [
        "### Jointplots are easy to do but I do not know a way to show them in one row."
      ]
    },
    {
      "cell_type": "code",
      "metadata": {
        "trusted": true,
        "_kg_hide-input": true,
        "id": "UbeRCDNTgElu",
        "colab_type": "code",
        "colab": {}
      },
      "source": [
        "data2 = data.drop([\"Name\",\"Type 2\",\"Type 1\",\"Legendary\",\"Generation\"],axis=1)\n",
        "sns.jointplot(data2[\"Total\"], data2[\"HP\"], kind='hex');\n",
        "sns.jointplot(data2[\"Total\"], data2[\"HP\"], kind='kde');"
      ],
      "execution_count": 0,
      "outputs": []
    },
    {
      "cell_type": "markdown",
      "metadata": {
        "id": "f_-z6Am1gElz",
        "colab_type": "text"
      },
      "source": [
        "### Violinplots are for now my most beloved boxplots."
      ]
    },
    {
      "cell_type": "code",
      "metadata": {
        "trusted": true,
        "_kg_hide-input": true,
        "id": "JjBpZSaEgElz",
        "colab_type": "code",
        "colab": {}
      },
      "source": [
        "plt.figure(figsize=(20,10))\n",
        "plt.subplot(231)\n",
        "sns.violinplot('Generation', 'Total', data=data);\n",
        "plt.subplot(232)\n",
        "sns.violinplot('Generation', 'HP', data=data);\n",
        "plt.subplot(233)\n",
        "sns.violinplot('Generation', 'Attack', data=data);\n",
        "plt.subplot(234)\n",
        "sns.violinplot('Generation', 'Defense', data=data);\n",
        "plt.subplot(235)\n",
        "sns.violinplot('Generation', 'Sp. Atk', data=data);\n",
        "plt.subplot(236)\n",
        "sns.violinplot('Generation', 'Sp. Def', data=data);"
      ],
      "execution_count": 0,
      "outputs": []
    },
    {
      "cell_type": "markdown",
      "metadata": {
        "id": "gnPBK1kmgEl4",
        "colab_type": "text"
      },
      "source": [
        "#### At the end I wanted to see how much legendary pokemons are different that normal ones "
      ]
    },
    {
      "cell_type": "code",
      "metadata": {
        "_kg_hide-input": true,
        "trusted": true,
        "id": "Zznk-V4ggEl5",
        "colab_type": "code",
        "colab": {}
      },
      "source": [
        "datax = data.drop([\"Name\",\"Type 1\",\"Type 2\",\"Generation\"],axis=1)\n",
        "_=sns.pairplot(datax, hue='Legendary', diag_kind='kde', height=2)\n",
        "_=10"
      ],
      "execution_count": 0,
      "outputs": []
    },
    {
      "cell_type": "markdown",
      "metadata": {
        "id": "4izK7jwmgEl9",
        "colab_type": "text"
      },
      "source": [
        "### I also started learning about Regresion , I would like to try predict Total "
      ]
    },
    {
      "cell_type": "markdown",
      "metadata": {
        "id": "cCtUCeojgEl-",
        "colab_type": "text"
      },
      "source": [
        "#### First thing correlations between feature. We see that Sp. Atk has the most corr. with Total."
      ]
    },
    {
      "cell_type": "code",
      "metadata": {
        "_kg_hide-input": true,
        "trusted": true,
        "id": "Ptv4taNVgEl-",
        "colab_type": "code",
        "colab": {}
      },
      "source": [
        "df = pd.DataFrame(data,columns=['Total','HP','Attack','Defense','Sp. Atk','Sp. Def','Speed'])\n",
        "corrMatrix = df.corr()\n",
        "f, ax = plt.subplots(figsize=(8, 6))\n",
        "ax = sns.heatmap(corrMatrix, annot=True)\n",
        "plt.show()"
      ],
      "execution_count": 0,
      "outputs": []
    },
    {
      "cell_type": "code",
      "metadata": {
        "_kg_hide-input": true,
        "trusted": true,
        "id": "uT4nTeGKgEmB",
        "colab_type": "code",
        "colab": {}
      },
      "source": [
        "regresX = data.loc[:,\"Sp. Atk\":]\n",
        "regresy = pd.DataFrame(data.loc[:,\"Total\"])"
      ],
      "execution_count": 0,
      "outputs": []
    },
    {
      "cell_type": "code",
      "metadata": {
        "_kg_hide-input": true,
        "trusted": true,
        "id": "us3AYoisgEmG",
        "colab_type": "code",
        "colab": {}
      },
      "source": [
        "X_train, X_test, y_train, y_test = train_test_split(pd.DataFrame(regresX.loc[:,\"Sp. Atk\"]), regresy,\n",
        "                                                   random_state = 0)\n",
        "linreg = LinearRegression().fit(X_train, y_train)"
      ],
      "execution_count": 0,
      "outputs": []
    },
    {
      "cell_type": "markdown",
      "metadata": {
        "id": "TA-LGKcmgEmP",
        "colab_type": "text"
      },
      "source": [
        "#### Linear regresion with one feature is easy to plot so I will start with it. Sp. Atk = feature , Total = target"
      ]
    },
    {
      "cell_type": "code",
      "metadata": {
        "_kg_hide-input": true,
        "trusted": true,
        "id": "TM_btKThgEmQ",
        "colab_type": "code",
        "colab": {}
      },
      "source": [
        "x = np.array(regresX[\"Sp. Atk\"])\n",
        "plt.figure(figsize=(10,8))\n",
        "plt.scatter(regresX.loc[:,\"Sp. Atk\"], regresy, marker= 'o', s=50, alpha=0.8)\n",
        "plt.plot(regresX.loc[:,\"Sp. Atk\"], linreg.coef_ * x.reshape(-1,1) + linreg.intercept_, 'r-')\n",
        "plt.title('Least-squares linear regression,R-squared score (test): {:.3f}'.format(linreg.score(X_test, y_test)))\n",
        "plt.xlabel('Sp. Atk')\n",
        "plt.ylabel('Total')\n",
        "ax = plt.gca()\n",
        "ax.xaxis.grid(True,alpha=0.4)\n",
        "ax.yaxis.grid(True,alpha=0.4)\n",
        "for spine in plt.gca().spines.values():\n",
        "    spine.set_visible(False)\n",
        "plt.show()"
      ],
      "execution_count": 0,
      "outputs": []
    },
    {
      "cell_type": "markdown",
      "metadata": {
        "id": "eGpIGBTogEmV",
        "colab_type": "text"
      },
      "source": [
        "#### I am interested how much different it is for generations and if pokemons are legendary or not.\n",
        "#### There is a big variance with legendary pokemons."
      ]
    },
    {
      "cell_type": "code",
      "metadata": {
        "_kg_hide-input": true,
        "trusted": true,
        "id": "tcKoYFcdgEmW",
        "colab_type": "code",
        "colab": {}
      },
      "source": [
        "sns.set_style('whitegrid') \n",
        "_=sns.lmplot(x ='Sp. Atk', y ='Total', data = data,height=6,hue ='Legendary', markers =['o', 'v'],row ='Generation')"
      ],
      "execution_count": 0,
      "outputs": []
    },
    {
      "cell_type": "code",
      "metadata": {
        "_kg_hide-input": true,
        "trusted": true,
        "id": "Ic1wxtpRgEmb",
        "colab_type": "code",
        "colab": {}
      },
      "source": [
        "regresX2 = data.loc[data[\"Legendary\"]==False,\"Sp. Atk\"]\n",
        "regresy2 = data.loc[data[\"Legendary\"]==False,\"Total\"]"
      ],
      "execution_count": 0,
      "outputs": []
    },
    {
      "cell_type": "code",
      "metadata": {
        "_kg_hide-input": true,
        "trusted": true,
        "id": "8VAOM2pXgEmf",
        "colab_type": "code",
        "colab": {}
      },
      "source": [
        "X_train, X_test, y_train, y_test = train_test_split(pd.DataFrame(regresX2), pd.DataFrame(regresy2),\n",
        "                                                   random_state = 0)\n",
        "linreg = LinearRegression().fit(X_train, y_train)"
      ],
      "execution_count": 0,
      "outputs": []
    },
    {
      "cell_type": "markdown",
      "metadata": {
        "id": "h3dH3GWwgEmj",
        "colab_type": "text"
      },
      "source": [
        "#### I would think that getting read of legendary pokemnos and doing regression only on ordinary pokemons will get me better score, but apparently this is not the case."
      ]
    },
    {
      "cell_type": "code",
      "metadata": {
        "_kg_hide-input": true,
        "trusted": true,
        "id": "LWD_PGCDgEmj",
        "colab_type": "code",
        "colab": {}
      },
      "source": [
        "x = np.array(regresX2)\n",
        "plt.figure(figsize=(10,8))\n",
        "plt.scatter(regresX2, regresy2, marker= 'o', s=50, alpha=0.8)\n",
        "plt.plot(regresX2, linreg.coef_ * x.reshape(-1,1) + linreg.intercept_, 'r-')\n",
        "plt.title('Least-squares linear regression,R-squared score (test): {:.3f}'.format(linreg.score(X_test, y_test)))\n",
        "plt.xlabel('Sp. Atk')\n",
        "plt.ylabel('Total')\n",
        "ax = plt.gca()\n",
        "ax.xaxis.grid(True,alpha=0.4)\n",
        "ax.yaxis.grid(True,alpha=0.4)\n",
        "for spine in plt.gca().spines.values():\n",
        "    spine.set_visible(False)\n",
        "plt.show()"
      ],
      "execution_count": 0,
      "outputs": []
    }
  ]
}